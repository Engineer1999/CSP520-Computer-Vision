{
  "nbformat": 4,
  "nbformat_minor": 0,
  "metadata": {
    "kernelspec": {
      "name": "python3",
      "display_name": "Python 3",
      "language": "python"
    },
    "language_info": {
      "name": "python",
      "version": "3.7.9",
      "mimetype": "text/x-python",
      "codemirror_mode": {
        "name": "ipython",
        "version": 3
      },
      "pygments_lexer": "ipython3",
      "nbconvert_exporter": "python",
      "file_extension": ".py"
    },
    "colab": {
      "name": "beans.ipynb",
      "provenance": [],
      "collapsed_sections": []
    }
  },
  "cells": [
    {
      "cell_type": "code",
      "metadata": {
        "id": "q0-6jVpH824v",
        "trusted": true
      },
      "source": [
        "import matplotlib.pylab as plt\n",
        "import cv2\n",
        "import tensorflow as tf\n",
        "import tensorflow_hub as hub\n",
        "import os\n",
        "import numpy as np\n",
        "import tensorflow_datasets as tfds\n",
        "import warnings\n",
        "from keras.optimizers import SGD\n",
        "warnings.filterwarnings('ignore')"
      ],
      "execution_count": null,
      "outputs": []
    },
    {
      "cell_type": "code",
      "metadata": {
        "id": "UBxXi6hq9Njy",
        "trusted": true
      },
      "source": [
        "(x_train, y_train), (x_test, y_test),(x_val,y_val) = tfds.load(\n",
        "    \"beans\",\n",
        "    split=['train', 'test','validation'],\n",
        "    batch_size=-1,\n",
        "    as_supervised=True,\n",
        ")"
      ],
      "execution_count": null,
      "outputs": []
    },
    {
      "cell_type": "code",
      "metadata": {
        "trusted": true,
        "id": "ofcPdb4JiChx",
        "outputId": "0a85584f-c303-46f0-8aa3-9f54e1a12560"
      },
      "source": [
        "# # Resizing\n",
        "x_train = tf.image.resize(x_train, [350,350]) \n",
        "x_val = tf.image.resize(x_val,[350,350])\n",
        "x_test = tf.image.resize(x_test,[350,350])\n",
        "\n",
        "print(x_train.shape)\n",
        "print(x_val.shape)\n",
        "print(x_test.shape)"
      ],
      "execution_count": null,
      "outputs": [
        {
          "output_type": "stream",
          "text": [
            "(1034, 350, 350, 3)\n",
            "(133, 350, 350, 3)\n",
            "(128, 350, 350, 3)\n"
          ],
          "name": "stdout"
        }
      ]
    },
    {
      "cell_type": "code",
      "metadata": {
        "trusted": true,
        "id": "CMBL2dfeiChy"
      },
      "source": [
        "# # Normalise the data\n",
        "x_train = x_train/255\n",
        "x_test = x_test/255\n",
        "x_val = x_val/255\n"
      ],
      "execution_count": null,
      "outputs": []
    },
    {
      "cell_type": "code",
      "metadata": {
        "id": "iMW71YmhFt5c",
        "trusted": true
      },
      "source": [
        "#implementing one hot encoding\n",
        "from keras.utils.np_utils import to_categorical\n",
        "ytrain = to_categorical(y_train, num_classes=3)\n",
        "yval = to_categorical(y_val, num_classes=3)\n",
        "ytest = to_categorical(y_test, num_classes=3)"
      ],
      "execution_count": null,
      "outputs": []
    },
    {
      "cell_type": "code",
      "metadata": {
        "id": "6hhwzY3jGJG0",
        "trusted": true
      },
      "source": [
        "#importing the model\n",
        "from keras.models import Sequential\n",
        "#creating model object\n",
        "model=Sequential()\n",
        "\n",
        "#importing layers\n",
        "from keras.layers import Conv2D,MaxPooling2D,Flatten,Dense,Dropout\n",
        "\n",
        "#adding layers and forming the model\n",
        "model.add(Conv2D(32,kernel_size=5,strides=1,padding=\"Same\",activation=\"relu\",input_shape=(350,350,3)))\n",
        "model.add(Conv2D(32,kernel_size=5,strides=1,padding=\"Same\",activation=\"relu\"))\n",
        "model.add(Conv2D(32,kernel_size=5,strides=1,padding=\"Same\",activation=\"relu\"))\n",
        "model.add(MaxPooling2D(padding=\"same\"))\n",
        "\n",
        "model.add(Conv2D(32,kernel_size=5,strides=1,padding=\"Same\",activation=\"relu\"))\n",
        "model.add(Conv2D(32,kernel_size=5,strides=1,padding=\"Same\",activation=\"relu\"))\n",
        "model.add(Conv2D(32,kernel_size=5,strides=1,padding=\"Same\",activation=\"relu\"))\n",
        "model.add(MaxPooling2D(padding=\"same\"))\n",
        "\n",
        "model.add(Conv2D(32,kernel_size=5,strides=1,padding=\"Same\",activation=\"relu\"))\n",
        "model.add(Conv2D(32,kernel_size=5,strides=1,padding=\"Same\",activation=\"relu\"))\n",
        "model.add(Conv2D(32,kernel_size=5,strides=1,padding=\"Same\",activation=\"relu\"))\n",
        "model.add(MaxPooling2D(padding=\"same\"))\n",
        "\n",
        "model.add(Conv2D(32,kernel_size=5,strides=1,padding=\"Same\",activation=\"relu\"))\n",
        "model.add(Conv2D(32,kernel_size=5,strides=1,padding=\"Same\",activation=\"relu\"))\n",
        "model.add(Conv2D(32,kernel_size=5,strides=1,padding=\"Same\",activation=\"relu\"))\n",
        "model.add(MaxPooling2D(padding=\"same\"))\n",
        "\n",
        "model.add(Conv2D(32,kernel_size=7,strides=1,padding=\"Same\",activation=\"relu\"))\n",
        "model.add(Conv2D(32,kernel_size=7,strides=1,padding=\"Same\",activation=\"relu\"))\n",
        "model.add(Conv2D(32,kernel_size=7,strides=1,padding=\"Same\",activation=\"relu\"))\n",
        "model.add(MaxPooling2D(padding=\"same\"))\n",
        "\n",
        "\n",
        "model.add(Flatten())\n",
        "\n",
        "model.add(Dropout(0.31))\n",
        "\n",
        "model.add(Dense(3,activation=\"softmax\"))\n",
        "model.compile(optimizer=\"adamax\" ,loss=\"categorical_crossentropy\",metrics=[\"accuracy\"])"
      ],
      "execution_count": null,
      "outputs": []
    },
    {
      "cell_type": "code",
      "metadata": {
        "id": "ofPkLs6LHCt1",
        "trusted": true,
        "outputId": "bfbde0c9-4af1-43ea-ecba-359aea280454"
      },
      "source": [
        "model.summary()"
      ],
      "execution_count": null,
      "outputs": [
        {
          "output_type": "stream",
          "text": [
            "Model: \"sequential\"\n",
            "_________________________________________________________________\n",
            "Layer (type)                 Output Shape              Param #   \n",
            "=================================================================\n",
            "conv2d (Conv2D)              (None, 350, 350, 32)      2432      \n",
            "_________________________________________________________________\n",
            "conv2d_1 (Conv2D)            (None, 350, 350, 32)      25632     \n",
            "_________________________________________________________________\n",
            "conv2d_2 (Conv2D)            (None, 350, 350, 32)      25632     \n",
            "_________________________________________________________________\n",
            "max_pooling2d (MaxPooling2D) (None, 175, 175, 32)      0         \n",
            "_________________________________________________________________\n",
            "conv2d_3 (Conv2D)            (None, 175, 175, 32)      25632     \n",
            "_________________________________________________________________\n",
            "conv2d_4 (Conv2D)            (None, 175, 175, 32)      25632     \n",
            "_________________________________________________________________\n",
            "conv2d_5 (Conv2D)            (None, 175, 175, 32)      25632     \n",
            "_________________________________________________________________\n",
            "max_pooling2d_1 (MaxPooling2 (None, 88, 88, 32)        0         \n",
            "_________________________________________________________________\n",
            "conv2d_6 (Conv2D)            (None, 88, 88, 32)        25632     \n",
            "_________________________________________________________________\n",
            "conv2d_7 (Conv2D)            (None, 88, 88, 32)        25632     \n",
            "_________________________________________________________________\n",
            "conv2d_8 (Conv2D)            (None, 88, 88, 32)        25632     \n",
            "_________________________________________________________________\n",
            "max_pooling2d_2 (MaxPooling2 (None, 44, 44, 32)        0         \n",
            "_________________________________________________________________\n",
            "conv2d_9 (Conv2D)            (None, 44, 44, 32)        25632     \n",
            "_________________________________________________________________\n",
            "conv2d_10 (Conv2D)           (None, 44, 44, 32)        25632     \n",
            "_________________________________________________________________\n",
            "conv2d_11 (Conv2D)           (None, 44, 44, 32)        25632     \n",
            "_________________________________________________________________\n",
            "max_pooling2d_3 (MaxPooling2 (None, 22, 22, 32)        0         \n",
            "_________________________________________________________________\n",
            "conv2d_12 (Conv2D)           (None, 22, 22, 32)        50208     \n",
            "_________________________________________________________________\n",
            "conv2d_13 (Conv2D)           (None, 22, 22, 32)        50208     \n",
            "_________________________________________________________________\n",
            "conv2d_14 (Conv2D)           (None, 22, 22, 32)        50208     \n",
            "_________________________________________________________________\n",
            "max_pooling2d_4 (MaxPooling2 (None, 11, 11, 32)        0         \n",
            "_________________________________________________________________\n",
            "flatten (Flatten)            (None, 3872)              0         \n",
            "_________________________________________________________________\n",
            "dropout (Dropout)            (None, 3872)              0         \n",
            "_________________________________________________________________\n",
            "dense (Dense)                (None, 3)                 11619     \n",
            "=================================================================\n",
            "Total params: 446,627\n",
            "Trainable params: 446,627\n",
            "Non-trainable params: 0\n",
            "_________________________________________________________________\n"
          ],
          "name": "stdout"
        }
      ]
    },
    {
      "cell_type": "code",
      "metadata": {
        "trusted": true,
        "id": "-nfJaZzbiCh6",
        "outputId": "ed157f96-7920-485c-fea5-61934db44857"
      },
      "source": [
        "history = model.fit(x_train,ytrain,batch_size=32,epochs=30,validation_data=(x_val,yval))"
      ],
      "execution_count": null,
      "outputs": [
        {
          "output_type": "stream",
          "text": [
            "Epoch 1/30\n",
            "33/33 [==============================] - 15s 333ms/step - loss: 1.0991 - accuracy: 0.3302 - val_loss: 1.0986 - val_accuracy: 0.3383\n",
            "Epoch 2/30\n",
            "33/33 [==============================] - 10s 292ms/step - loss: 1.0986 - accuracy: 0.3520 - val_loss: 1.0982 - val_accuracy: 0.3383\n",
            "Epoch 3/30\n",
            "33/33 [==============================] - 10s 289ms/step - loss: 1.0978 - accuracy: 0.3396 - val_loss: 1.0986 - val_accuracy: 0.3308\n",
            "Epoch 4/30\n",
            "33/33 [==============================] - 10s 289ms/step - loss: 1.0983 - accuracy: 0.3641 - val_loss: 1.0914 - val_accuracy: 0.3308\n",
            "Epoch 5/30\n",
            "33/33 [==============================] - 10s 292ms/step - loss: 1.0837 - accuracy: 0.3701 - val_loss: 1.0212 - val_accuracy: 0.4812\n",
            "Epoch 6/30\n",
            "33/33 [==============================] - 10s 290ms/step - loss: 1.0379 - accuracy: 0.5011 - val_loss: 0.9021 - val_accuracy: 0.5789\n",
            "Epoch 7/30\n",
            "33/33 [==============================] - 10s 289ms/step - loss: 0.8819 - accuracy: 0.5990 - val_loss: 0.7870 - val_accuracy: 0.6316\n",
            "Epoch 8/30\n",
            "33/33 [==============================] - 10s 291ms/step - loss: 0.7833 - accuracy: 0.6614 - val_loss: 0.7380 - val_accuracy: 0.6541\n",
            "Epoch 9/30\n",
            "33/33 [==============================] - 10s 292ms/step - loss: 0.7034 - accuracy: 0.6865 - val_loss: 0.6380 - val_accuracy: 0.6617\n",
            "Epoch 10/30\n",
            "33/33 [==============================] - 10s 289ms/step - loss: 0.6504 - accuracy: 0.7001 - val_loss: 0.6248 - val_accuracy: 0.7594\n",
            "Epoch 11/30\n",
            "33/33 [==============================] - 9s 288ms/step - loss: 0.6249 - accuracy: 0.7287 - val_loss: 0.5708 - val_accuracy: 0.7744\n",
            "Epoch 12/30\n",
            "33/33 [==============================] - 10s 290ms/step - loss: 0.5040 - accuracy: 0.7827 - val_loss: 0.4444 - val_accuracy: 0.8195\n",
            "Epoch 13/30\n",
            "33/33 [==============================] - 10s 290ms/step - loss: 0.4656 - accuracy: 0.8072 - val_loss: 0.4640 - val_accuracy: 0.8346\n",
            "Epoch 14/30\n",
            "33/33 [==============================] - 10s 288ms/step - loss: 0.4272 - accuracy: 0.8295 - val_loss: 0.5245 - val_accuracy: 0.7744\n",
            "Epoch 15/30\n",
            "33/33 [==============================] - 10s 290ms/step - loss: 0.4565 - accuracy: 0.8269 - val_loss: 0.3477 - val_accuracy: 0.8647\n",
            "Epoch 16/30\n",
            "33/33 [==============================] - 10s 289ms/step - loss: 0.3768 - accuracy: 0.8603 - val_loss: 0.3153 - val_accuracy: 0.8571\n",
            "Epoch 17/30\n",
            "33/33 [==============================] - 10s 290ms/step - loss: 0.3285 - accuracy: 0.8779 - val_loss: 0.2812 - val_accuracy: 0.9023\n",
            "Epoch 18/30\n",
            "33/33 [==============================] - 10s 288ms/step - loss: 0.3279 - accuracy: 0.8605 - val_loss: 0.2595 - val_accuracy: 0.9323\n",
            "Epoch 19/30\n",
            "33/33 [==============================] - 10s 293ms/step - loss: 0.2502 - accuracy: 0.9077 - val_loss: 0.2278 - val_accuracy: 0.9248\n",
            "Epoch 20/30\n",
            "33/33 [==============================] - 10s 288ms/step - loss: 0.2785 - accuracy: 0.9013 - val_loss: 0.5603 - val_accuracy: 0.7594\n",
            "Epoch 21/30\n",
            "33/33 [==============================] - 9s 287ms/step - loss: 0.3565 - accuracy: 0.8736 - val_loss: 0.2803 - val_accuracy: 0.8947\n",
            "Epoch 22/30\n",
            "33/33 [==============================] - 10s 290ms/step - loss: 0.2115 - accuracy: 0.9261 - val_loss: 0.3577 - val_accuracy: 0.8271\n",
            "Epoch 23/30\n",
            "33/33 [==============================] - 9s 287ms/step - loss: 0.2222 - accuracy: 0.9095 - val_loss: 0.2435 - val_accuracy: 0.9248\n",
            "Epoch 24/30\n",
            "33/33 [==============================] - 10s 291ms/step - loss: 0.2020 - accuracy: 0.9300 - val_loss: 0.2341 - val_accuracy: 0.9248\n",
            "Epoch 25/30\n",
            "33/33 [==============================] - 10s 291ms/step - loss: 0.1600 - accuracy: 0.9495 - val_loss: 0.2285 - val_accuracy: 0.8872\n",
            "Epoch 26/30\n",
            "33/33 [==============================] - 10s 294ms/step - loss: 0.1395 - accuracy: 0.9454 - val_loss: 0.4013 - val_accuracy: 0.8195\n",
            "Epoch 27/30\n",
            "33/33 [==============================] - 10s 289ms/step - loss: 0.1668 - accuracy: 0.9511 - val_loss: 0.2959 - val_accuracy: 0.9023\n",
            "Epoch 28/30\n",
            "33/33 [==============================] - 10s 290ms/step - loss: 0.1702 - accuracy: 0.9415 - val_loss: 0.2021 - val_accuracy: 0.9398\n",
            "Epoch 29/30\n",
            "33/33 [==============================] - 10s 290ms/step - loss: 0.1144 - accuracy: 0.9601 - val_loss: 0.5299 - val_accuracy: 0.8421\n",
            "Epoch 30/30\n",
            "33/33 [==============================] - 10s 291ms/step - loss: 0.1547 - accuracy: 0.9450 - val_loss: 0.1827 - val_accuracy: 0.9323\n"
          ],
          "name": "stdout"
        }
      ]
    },
    {
      "cell_type": "code",
      "metadata": {
        "id": "B8HZDxBaLK8E",
        "trusted": true,
        "outputId": "b249df82-0a84-471c-f195-efb7be2e9310"
      },
      "source": [
        "#model train and test scores\n",
        "model.evaluate(x_val,yval),model.evaluate(x_train,ytrain)\n",
        "plt.plot(history.history['accuracy'], label='Training accuracy')\n",
        "plt.plot(history.history['val_accuracy'], label='Validation accuracy')\n",
        "plt.legend();"
      ],
      "execution_count": null,
      "outputs": [
        {
          "output_type": "stream",
          "text": [
            "5/5 [==============================] - 0s 63ms/step - loss: 0.1827 - accuracy: 0.9323\n",
            "33/33 [==============================] - 3s 84ms/step - loss: 0.0622 - accuracy: 0.9903\n"
          ],
          "name": "stdout"
        },
        {
          "output_type": "display_data",
          "data": {
            "text/plain": [
              "<Figure size 432x288 with 1 Axes>"
            ],
            "image/png": "[encoded data removed]"
          },
          "metadata": {
            "tags": [],
            "needs_background": "light"
          }
        }
      ]
    },
    {
      "cell_type": "code",
      "metadata": {
        "trusted": true,
        "id": "4EzVt5xGiCh7",
        "outputId": "0758e659-60dc-4fe9-93c7-20131f7d7182"
      },
      "source": [
        "plt.plot(history.history['loss'], label='Training Loss')\n",
        "plt.plot(history.history['val_loss'], label='Test Loss')\n",
        "plt.legend();"
      ],
      "execution_count": null,
      "outputs": [
        {
          "output_type": "display_data",
          "data": {
            "text/plain": [
              "<Figure size 432x288 with 1 Axes>"
            ],
            "image/png": "[encoded data removed]"
          },
          "metadata": {
            "tags": [],
            "needs_background": "light"
          }
        }
      ]
    },
    {
      "cell_type": "code",
      "metadata": {
        "trusted": true,
        "id": "X37uw5MkiCh7",
        "outputId": "2991e61b-d048-4d49-c093-e748604df762"
      },
      "source": [
        "test_loss, test_accuracy = model.evaluate(x_test,ytest)\n",
        "print('Final testing accuracy ', test_accuracy)"
      ],
      "execution_count": null,
      "outputs": [
        {
          "output_type": "stream",
          "text": [
            "4/4 [==============================] - 1s 80ms/step - loss: 0.4309 - accuracy: 0.8594\n",
            "Final testing accuracy  0.859375\n"
          ],
          "name": "stdout"
        }
      ]
    }
  ]
}