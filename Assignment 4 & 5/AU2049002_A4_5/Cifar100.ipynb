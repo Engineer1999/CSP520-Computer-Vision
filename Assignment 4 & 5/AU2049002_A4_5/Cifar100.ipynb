{
  "nbformat": 4,
  "nbformat_minor": 0,
  "metadata": {
    "accelerator": "GPU",
    "colab": {
      "name": "Cifar100.ipynb",
      "provenance": [],
      "collapsed_sections": []
    },
    "kernelspec": {
      "display_name": "Python 3",
      "name": "python3"
    }
  },
  "cells": [
    {
      "cell_type": "code",
      "metadata": {
        "colab": {
          "base_uri": "https://localhost:8080/"
        },
        "id": "3wZhA1YPVa9a",
        "outputId": "b99f0cc5-c8ad-4bd7-b3d0-2a3d58b6121b"
      },
      "source": [
        "from google.colab import drive\r\n",
        "drive.mount('/content/drive')"
      ],
      "execution_count": null,
      "outputs": [
        {
          "output_type": "stream",
          "text": [
            "Mounted at /content/drive\n"
          ],
          "name": "stdout"
        }
      ]
    },
    {
      "cell_type": "code",
      "metadata": {
        "colab": {
          "base_uri": "https://localhost:8080/"
        },
        "id": "qgQ76YdlVeP-",
        "outputId": "0fefc126-c912-44f2-aff2-5216a69b9902"
      },
      "source": [
        "import os \r\n",
        "os.chdir(r\"/content/drive/MyDrive/CV\") \r\n",
        "print(\"Directory changed\") "
      ],
      "execution_count": null,
      "outputs": [
        {
          "output_type": "stream",
          "text": [
            "Directory changed\n"
          ],
          "name": "stdout"
        }
      ]
    },
    {
      "cell_type": "code",
      "metadata": {
        "id": "qSt5kgrsLHsN"
      },
      "source": [
        "!pip install opendatasets --upgrade -q\r\n"
      ],
      "execution_count": null,
      "outputs": []
    },
    {
      "cell_type": "code",
      "metadata": {
        "id": "id3DNKqILVDq"
      },
      "source": [
        "import os #interact with os - python standard utility module\r\n",
        "import torch #PyTorch for Tensor Computation like Numpy with strong GPU acceleration & to build deep neural networks with autograd system\r\n",
        "import torchvision #consists of popular dataset, architectures and image transformations\r\n",
        "import tarfile #reads and writes gzip , bz2 and lzma compressed archives if the respective modules are available\r\n",
        "import torch.nn as nn #basic building block for graphs - convolutions\r\n",
        "import numpy as np #vectors and arrays\r\n",
        "import torch.nn.functional as F #for activation functions and convolution operations \r\n",
        "from torchvision.datasets import ImageFolder #datasets\r\n",
        "from torchvision.datasets.utils import download_url #to download dataset\r\n",
        "from torch.utils.data import DataLoader #load your own image of dataset\r\n",
        "from torch.utils.data import random_split #to split dataset into non-overlapping datasets\r\n",
        "import torchvision.transforms as tt #image transformations\r\n",
        "from torchvision.utils import make_grid #displaying images\r\n",
        "import torchvision.models as models #for initializing pretrained models\r\n",
        "import matplotlib.pyplot as plt #graphs\r\n",
        "import opendatasets as od  #for downloading datasets from online sources\r\n",
        "%matplotlib inline"
      ],
      "execution_count": null,
      "outputs": []
    },
    {
      "cell_type": "code",
      "metadata": {
        "colab": {
          "base_uri": "https://localhost:8080/"
        },
        "id": "TlESROjNLZ5H",
        "outputId": "44ff016f-3a19-4d37-9717-604752d5a7e0"
      },
      "source": [
        " dataset_url = 'https://www.kaggle.com/minbavel/cifar-100-images' #url of dataset\r\n",
        "od.download(dataset_url) #download dataset"
      ],
      "execution_count": null,
      "outputs": [
        {
          "output_type": "stream",
          "text": [
            "Please provide your Kaggle credentials to download this dataset. Learn more: http://bit.ly/kaggle-creds\n",
            "Your Kaggle username: srishtis1258\n",
            "Your Kaggle Key: ··········\n",
            "cifar-100-images.zip: Skipping, found more recently modified local copy (use --force to force download)\n"
          ],
          "name": "stdout"
        }
      ]
    },
    {
      "cell_type": "code",
      "metadata": {
        "colab": {
          "base_uri": "https://localhost:8080/"
        },
        "id": "uhERdiReNINL",
        "outputId": "8be51a7c-4bfa-4abd-f9aa-b7e6dcd8c049"
      },
      "source": [
        "#directory creation\r\n",
        "data_dir = './cifar-100-images/CIFAR100' \r\n",
        "print(os.listdir(data_dir))\r\n",
        "classes = os.listdir(data_dir + \"/TRAIN\")\r\n",
        "print(classes[:10])\r\n",
        "print(len(classes))"
      ],
      "execution_count": null,
      "outputs": [
        {
          "output_type": "stream",
          "text": [
            "['TEST', 'TRAIN']\n",
            "['apple', 'aquarium_fish', 'baby', 'bear', 'beaver', 'bed', 'bee', 'beetle', 'bicycle', 'bottle']\n",
            "100\n"
          ],
          "name": "stdout"
        }
      ]
    },
    {
      "cell_type": "code",
      "metadata": {
        "colab": {
          "base_uri": "https://localhost:8080/"
        },
        "id": "q7NwRJOrNUa-",
        "outputId": "dcee4de4-63ff-47b4-c476-12e99685fdcb"
      },
      "source": [
        "#listing name of objects with number of training images each in form of dictionary\r\n",
        "di={}\r\n",
        "for i in classes:\r\n",
        "    di[i]=len(os.listdir(data_dir+\"/TRAIN/\"+i))\r\n",
        "print(di)"
      ],
      "execution_count": null,
      "outputs": [
        {
          "output_type": "stream",
          "text": [
            "{'apple': 500, 'aquarium_fish': 500, 'baby': 500, 'bear': 500, 'beaver': 500, 'bed': 500, 'bee': 500, 'beetle': 500, 'bicycle': 500, 'bottle': 500, 'bowl': 500, 'boy': 500, 'bridge': 500, 'bus': 500, 'butterfly': 500, 'camel': 500, 'can': 500, 'castle': 500, 'caterpillar': 500, 'cattle': 500, 'chair': 500, 'chimpanzee': 500, 'clock': 500, 'cloud': 500, 'cockroach': 500, 'couch': 500, 'crab': 500, 'crocodile': 500, 'cup': 500, 'dinosaur': 500, 'dolphin': 500, 'elephant': 500, 'flatfish': 500, 'forest': 500, 'fox': 500, 'girl': 500, 'hamster': 500, 'house': 500, 'kangaroo': 500, 'keyboard': 500, 'lamp': 500, 'lawn_mower': 500, 'leopard': 500, 'lion': 500, 'lizard': 500, 'lobster': 500, 'man': 500, 'maple_tree': 500, 'motorcycle': 500, 'mountain': 500, 'mouse': 500, 'mushroom': 500, 'oak_tree': 500, 'orange': 500, 'orchid': 500, 'otter': 500, 'palm_tree': 500, 'pear': 500, 'pickup_truck': 500, 'pine_tree': 500, 'plain': 500, 'plate': 500, 'poppy': 500, 'porcupine': 500, 'possum': 500, 'rabbit': 500, 'raccoon': 500, 'ray': 500, 'road': 500, 'rocket': 500, 'rose': 500, 'sea': 500, 'seal': 500, 'shark': 500, 'shrew': 500, 'skunk': 500, 'skyscraper': 500, 'snail': 500, 'snake': 500, 'spider': 500, 'squirrel': 500, 'streetcar': 500, 'sunflower': 500, 'sweet_pepper': 500, 'table': 500, 'tank': 500, 'telephone': 500, 'television': 500, 'tiger': 500, 'tractor': 500, 'train': 500, 'trout': 500, 'tulip': 500, 'turtle': 500, 'wardrobe': 500, 'whale': 500, 'willow_tree': 500, 'wolf': 500, 'woman': 500, 'worm': 500}\n"
          ],
          "name": "stdout"
        }
      ]
    },
    {
      "cell_type": "code",
      "metadata": {
        "id": "n44idXviNdZN"
      },
      "source": [
        "#Transformation of images - normalization and augmentation of images\r\n",
        "stats = ((0.4914, 0.4822, 0.4465), (0.2023, 0.1994, 0.2010))\r\n",
        "train_transformed = tt.Compose([tt.RandomCrop(32, padding=4,padding_mode='reflect'), \r\n",
        "                         tt.RandomHorizontalFlip(), \r\n",
        "                         tt.ToTensor(), \r\n",
        "                         tt.Normalize(*stats,inplace=True)\r\n",
        "                        ])\r\n",
        "valid_transformed = tt.Compose([tt.ToTensor(), tt.Normalize(*stats)\r\n",
        "                        ])\r\n"
      ],
      "execution_count": null,
      "outputs": []
    },
    {
      "cell_type": "code",
      "metadata": {
        "id": "3P7g8skrNjT7"
      },
      "source": [
        "# PyTorch datasets\r\n",
        "train_dataset = ImageFolder(data_dir+'/TRAIN', train_transformed)\r\n",
        "valid_dataset = ImageFolder(data_dir+'/TEST', valid_transformed)"
      ],
      "execution_count": null,
      "outputs": []
    },
    {
      "cell_type": "code",
      "metadata": {
        "id": "cX_MZTT2Nl-S"
      },
      "source": [
        "#hyperparameter defining how many samples to work with before updating the internal model parameters\r\n",
        "batch_size = 400"
      ],
      "execution_count": null,
      "outputs": []
    },
    {
      "cell_type": "code",
      "metadata": {
        "colab": {
          "base_uri": "https://localhost:8080/"
        },
        "id": "k7sVjC8tNoLL",
        "outputId": "cd60480d-df6c-45b5-b179-f699cc7bb81b"
      },
      "source": [
        "#Loading Training and Testing dataset\r\n",
        "train_dl = DataLoader(train_dataset, batch_size, shuffle=True, num_workers=3, pin_memory=True)\r\n",
        "valid_dl = DataLoader(valid_dataset, batch_size*2, num_workers=3, pin_memory=True)"
      ],
      "execution_count": null,
      "outputs": [
        {
          "output_type": "stream",
          "text": [
            "/usr/local/lib/python3.7/dist-packages/torch/utils/data/dataloader.py:477: UserWarning: This DataLoader will create 3 worker processes in total. Our suggested max number of worker in current system is 2, which is smaller than what this DataLoader is going to create. Please be aware that excessive worker creation might get DataLoader running slow or even freeze, lower the worker number to avoid potential slowness/freeze if necessary.\n",
            "  cpuset_checked))\n"
          ],
          "name": "stderr"
        }
      ]
    },
    {
      "cell_type": "code",
      "metadata": {
        "id": "OkcP734NNq19"
      },
      "source": [
        "#to show grid of images in a batch\r\n",
        "def show_batch(dl):\r\n",
        "    for images, labels in dl:\r\n",
        "        fig, ax = plt.subplots(figsize=(12, 12))\r\n",
        "        ax.set_xticks([]); ax.set_yticks([])\r\n",
        "        ax.imshow(make_grid(images[:64], nrow=8).permute(1, 2, 0))\r\n",
        "        break"
      ],
      "execution_count": null,
      "outputs": []
    },
    {
      "cell_type": "code",
      "metadata": {
        "id": "EJNq2sjvNtzg"
      },
      "source": [
        "#code for selection of the device type - CPU/GPU subject to availability\r\n",
        "def get_default_device():\r\n",
        "\r\n",
        "   #GPU selected if available\r\n",
        "    if torch.cuda.is_available():\r\n",
        "        return torch.device('cuda')\r\n",
        "    else:\r\n",
        "        return torch.device('cpu')\r\n",
        "    \r\n",
        "def to_device(data, device): #to move tensor to the selected device type\r\n",
        "    if isinstance(data, (list,tuple)):\r\n",
        "        return [to_device(x, device) for x in data]\r\n",
        "    return data.to(device, non_blocking=True)\r\n",
        "\r\n",
        "class DeviceDataLoader(): #dataloader wrapped to move data to a device\r\n",
        "    def __init__(self, dl, device):\r\n",
        "        self.dl = dl\r\n",
        "        self.device = device\r\n",
        "        \r\n",
        "    def __iter__(self): #to yeild a batch full data after moving data to device\r\n",
        "        for b in self.dl: \r\n",
        "            yield to_device(b, self.device)\r\n",
        "\r\n",
        "    def __len__(self): #number of batches\r\n",
        "        return len(self.dl)"
      ],
      "execution_count": null,
      "outputs": []
    },
    {
      "cell_type": "code",
      "metadata": {
        "colab": {
          "base_uri": "https://localhost:8080/"
        },
        "id": "ZABA6TDkNwid",
        "outputId": "03dffa8d-6725-4562-cd26-7b293368f35d"
      },
      "source": [
        "#check device type\r\n",
        "device = get_default_device()\r\n",
        "device"
      ],
      "execution_count": null,
      "outputs": [
        {
          "output_type": "execute_result",
          "data": {
            "text/plain": [
              "device(type='cuda')"
            ]
          },
          "metadata": {
            "tags": []
          },
          "execution_count": 30
        }
      ]
    },
    {
      "cell_type": "code",
      "metadata": {
        "id": "yhE0k-m3Ny_N"
      },
      "source": [
        "# Transfering data to the device currently in use\r\n",
        "train_dl = DeviceDataLoader(train_dl, device)\r\n",
        "valid_dl = DeviceDataLoader(valid_dl, device)"
      ],
      "execution_count": null,
      "outputs": []
    },
    {
      "cell_type": "code",
      "metadata": {
        "id": "SNoLvAzVN0xt"
      },
      "source": [
        "#CNN architecture\r\n",
        "def accuracy(outputs, labels): #accuracy calculation of model\r\n",
        "    _, preds = torch.max(outputs, dim=1)\r\n",
        "    return torch.tensor(torch.sum(preds == labels).item() / len(preds))\r\n",
        "\r\n",
        "class ImageClassificationBase(nn.Module):\r\n",
        "    def training_step(self, batch):\r\n",
        "        images, labels = batch \r\n",
        "        out = self(images)                  # generation of predictions\r\n",
        "        loss = F.cross_entropy(out, labels) # loss calculation\r\n",
        "        return loss\r\n",
        "    \r\n",
        "    def validation_step(self, batch):\r\n",
        "        images, labels = batch \r\n",
        "        out = self(images)                    # generation of predictions\r\n",
        "        loss = F.cross_entropy(out, labels)   # loss calculation\r\n",
        "        acc = accuracy(out, labels)           # accuracy calculation\r\n",
        "        return {'val_loss': loss.detach(), 'val_acc': acc}\r\n",
        "        \r\n",
        "    def validation_epoch_end(self, outputs):\r\n",
        "        batch_losses = [x['val_loss'] for x in outputs]\r\n",
        "        epoch_loss = torch.stack(batch_losses).mean()   # Combine losses\r\n",
        "        batch_accs = [x['val_acc'] for x in outputs]\r\n",
        "        epoch_acc = torch.stack(batch_accs).mean()      # Combine accuracies\r\n",
        "        return {'val_loss': epoch_loss.item(), 'val_acc': epoch_acc.item()}\r\n",
        "    \r\n",
        "    def epoch_end(self, epoch, result):\r\n",
        "        print(\"Epoch [{}], last_lr: {:.5f}, train_loss: {:.4f}, val_loss: {:.4f}, val_acc: {:.4f}\".format(\r\n",
        "            epoch, result['lrs'][-1], result['train_loss'], result['val_loss'], result['val_acc']))\r\n",
        "def conv_block(in_channels, out_channels, pool=False): #kernel size=3, padding=1 pixel, activation function used = ReLU, 5 Convolution Layers\r\n",
        "    layers = [nn.Conv2d(in_channels, out_channels, kernel_size=3, padding=1), \r\n",
        "              nn.BatchNorm2d(out_channels), \r\n",
        "              nn.ReLU(inplace=True)]\r\n",
        "    if pool: layers.append(nn.MaxPool2d(2)) #maxPool layer used size = 2\r\n",
        "    return nn.Sequential(*layers)\r\n",
        "\r\n",
        "class ResNet152(ImageClassificationBase): #5 Convolution Layers, 3 ResNet Layers for Ensemble Learning \r\n",
        "    def __init__(self, in_channels, num_classes):\r\n",
        "        super().__init__()\r\n",
        "        \r\n",
        "        self.conv1 = conv_block(in_channels, 64) \r\n",
        "        self.conv2 = conv_block(64, 128, pool=True) \r\n",
        "        self.res1 = nn.Sequential(conv_block(128, 128), conv_block(128, 128)) \r\n",
        "        self.conv3 = conv_block(128, 256, pool=True)\r\n",
        "        self.conv4 = conv_block(256, 512, pool=True) \r\n",
        "        self.res2 = nn.Sequential(conv_block(512, 512), conv_block(512, 512)) \r\n",
        "        self.conv5 = conv_block(512, 1028, pool=True)\r\n",
        "        self.res3 = nn.Sequential(conv_block(1028, 1028), conv_block(1028, 1028))\r\n",
        "        \r\n",
        "        self.classifier = nn.Sequential(nn.MaxPool2d(2), \r\n",
        "                                        nn.Flatten(), \r\n",
        "                                        nn.Linear(1028, num_classes))\r\n",
        "        \r\n",
        "    def forward(self, xb):\r\n",
        "        out = self.conv1(xb)\r\n",
        "        out = self.conv2(out)\r\n",
        "        out = self.res1(out) + out\r\n",
        "        out = self.conv3(out)\r\n",
        "        out = self.conv4(out)\r\n",
        "        out = self.res2(out) + out\r\n",
        "        out = self.conv5(out)\r\n",
        "        out = self.res3(out) + out\r\n",
        "        out = self.classifier(out)\r\n",
        "        return out"
      ],
      "execution_count": null,
      "outputs": []
    },
    {
      "cell_type": "code",
      "metadata": {
        "colab": {
          "base_uri": "https://localhost:8080/"
        },
        "id": "lq7AhvQyN4vz",
        "outputId": "18cab39f-51a9-4e26-fbde-e943c22e8b07"
      },
      "source": [
        "model = to_device(ResNet152(3, 100), device)\r\n",
        "model"
      ],
      "execution_count": null,
      "outputs": [
        {
          "output_type": "execute_result",
          "data": {
            "text/plain": [
              "ResNet152(\n",
              "  (conv1): Sequential(\n",
              "    (0): Conv2d(3, 64, kernel_size=(3, 3), stride=(1, 1), padding=(1, 1))\n",
              "    (1): BatchNorm2d(64, eps=1e-05, momentum=0.1, affine=True, track_running_stats=True)\n",
              "    (2): ReLU(inplace=True)\n",
              "  )\n",
              "  (conv2): Sequential(\n",
              "    (0): Conv2d(64, 128, kernel_size=(3, 3), stride=(1, 1), padding=(1, 1))\n",
              "    (1): BatchNorm2d(128, eps=1e-05, momentum=0.1, affine=True, track_running_stats=True)\n",
              "    (2): ReLU(inplace=True)\n",
              "    (3): MaxPool2d(kernel_size=2, stride=2, padding=0, dilation=1, ceil_mode=False)\n",
              "  )\n",
              "  (res1): Sequential(\n",
              "    (0): Sequential(\n",
              "      (0): Conv2d(128, 128, kernel_size=(3, 3), stride=(1, 1), padding=(1, 1))\n",
              "      (1): BatchNorm2d(128, eps=1e-05, momentum=0.1, affine=True, track_running_stats=True)\n",
              "      (2): ReLU(inplace=True)\n",
              "    )\n",
              "    (1): Sequential(\n",
              "      (0): Conv2d(128, 128, kernel_size=(3, 3), stride=(1, 1), padding=(1, 1))\n",
              "      (1): BatchNorm2d(128, eps=1e-05, momentum=0.1, affine=True, track_running_stats=True)\n",
              "      (2): ReLU(inplace=True)\n",
              "    )\n",
              "  )\n",
              "  (conv3): Sequential(\n",
              "    (0): Conv2d(128, 256, kernel_size=(3, 3), stride=(1, 1), padding=(1, 1))\n",
              "    (1): BatchNorm2d(256, eps=1e-05, momentum=0.1, affine=True, track_running_stats=True)\n",
              "    (2): ReLU(inplace=True)\n",
              "    (3): MaxPool2d(kernel_size=2, stride=2, padding=0, dilation=1, ceil_mode=False)\n",
              "  )\n",
              "  (conv4): Sequential(\n",
              "    (0): Conv2d(256, 512, kernel_size=(3, 3), stride=(1, 1), padding=(1, 1))\n",
              "    (1): BatchNorm2d(512, eps=1e-05, momentum=0.1, affine=True, track_running_stats=True)\n",
              "    (2): ReLU(inplace=True)\n",
              "    (3): MaxPool2d(kernel_size=2, stride=2, padding=0, dilation=1, ceil_mode=False)\n",
              "  )\n",
              "  (res2): Sequential(\n",
              "    (0): Sequential(\n",
              "      (0): Conv2d(512, 512, kernel_size=(3, 3), stride=(1, 1), padding=(1, 1))\n",
              "      (1): BatchNorm2d(512, eps=1e-05, momentum=0.1, affine=True, track_running_stats=True)\n",
              "      (2): ReLU(inplace=True)\n",
              "    )\n",
              "    (1): Sequential(\n",
              "      (0): Conv2d(512, 512, kernel_size=(3, 3), stride=(1, 1), padding=(1, 1))\n",
              "      (1): BatchNorm2d(512, eps=1e-05, momentum=0.1, affine=True, track_running_stats=True)\n",
              "      (2): ReLU(inplace=True)\n",
              "    )\n",
              "  )\n",
              "  (conv5): Sequential(\n",
              "    (0): Conv2d(512, 1028, kernel_size=(3, 3), stride=(1, 1), padding=(1, 1))\n",
              "    (1): BatchNorm2d(1028, eps=1e-05, momentum=0.1, affine=True, track_running_stats=True)\n",
              "    (2): ReLU(inplace=True)\n",
              "    (3): MaxPool2d(kernel_size=2, stride=2, padding=0, dilation=1, ceil_mode=False)\n",
              "  )\n",
              "  (res3): Sequential(\n",
              "    (0): Sequential(\n",
              "      (0): Conv2d(1028, 1028, kernel_size=(3, 3), stride=(1, 1), padding=(1, 1))\n",
              "      (1): BatchNorm2d(1028, eps=1e-05, momentum=0.1, affine=True, track_running_stats=True)\n",
              "      (2): ReLU(inplace=True)\n",
              "    )\n",
              "    (1): Sequential(\n",
              "      (0): Conv2d(1028, 1028, kernel_size=(3, 3), stride=(1, 1), padding=(1, 1))\n",
              "      (1): BatchNorm2d(1028, eps=1e-05, momentum=0.1, affine=True, track_running_stats=True)\n",
              "      (2): ReLU(inplace=True)\n",
              "    )\n",
              "  )\n",
              "  (classifier): Sequential(\n",
              "    (0): MaxPool2d(kernel_size=2, stride=2, padding=0, dilation=1, ceil_mode=False)\n",
              "    (1): Flatten(start_dim=1, end_dim=-1)\n",
              "    (2): Linear(in_features=1028, out_features=100, bias=True)\n",
              "  )\n",
              ")"
            ]
          },
          "metadata": {
            "tags": []
          },
          "execution_count": 33
        }
      ]
    },
    {
      "cell_type": "code",
      "metadata": {
        "id": "WvlR2gATN_El"
      },
      "source": [
        "#Training the model\r\n",
        "def evaluate(model, val_loader):\r\n",
        "    model.eval()\r\n",
        "    outputs = [model.validation_step(batch) for batch in val_loader]\r\n",
        "    return model.validation_epoch_end(outputs)\r\n",
        "\r\n",
        "def get_lr(optimizer):\r\n",
        "    for param_group in optimizer.param_groups:\r\n",
        "        return param_group['lr']\r\n",
        "\r\n",
        "def fit_one_cycle(epochs, max_lr, model, train_loader, val_loader, \r\n",
        "                  weight_decay=0, grad_clip=None, opt_func=torch.optim.SGD):\r\n",
        "    torch.cuda.empty_cache()\r\n",
        "    history = []\r\n",
        "    \r\n",
        "    # Set up cutom optimizer with weight decay\r\n",
        "    optimizer = opt_func(model.parameters(), max_lr, weight_decay=weight_decay)\r\n",
        "    # Set up one-cycle learning rate scheduler\r\n",
        "    sched = torch.optim.lr_scheduler.OneCycleLR(optimizer, max_lr, epochs=epochs, \r\n",
        "                                                steps_per_epoch=len(train_loader))\r\n",
        "    \r\n",
        "    for epoch in range(epochs):\r\n",
        "        # Training Phase \r\n",
        "        model.train()\r\n",
        "        train_losses = []\r\n",
        "        lrs = []\r\n",
        "        for batch in train_loader:\r\n",
        "            loss = model.training_step(batch)\r\n",
        "            train_losses.append(loss)\r\n",
        "            loss.backward()\r\n",
        "            \r\n",
        "            # Gradient clipping\r\n",
        "            if grad_clip: \r\n",
        "                nn.utils.clip_grad_value_(model.parameters(), grad_clip)\r\n",
        "            \r\n",
        "            optimizer.step()\r\n",
        "            optimizer.zero_grad()\r\n",
        "            \r\n",
        "            # Record & update learning rate\r\n",
        "            lrs.append(get_lr(optimizer))\r\n",
        "            sched.step()\r\n",
        "        \r\n",
        "        # Validation phase\r\n",
        "        result = evaluate(model, val_loader)\r\n",
        "        result['train_loss'] = torch.stack(train_losses).mean().item()\r\n",
        "        result['lrs'] = lrs\r\n",
        "        model.epoch_end(epoch, result)\r\n",
        "        history.append(result)\r\n",
        "    return history"
      ],
      "execution_count": null,
      "outputs": []
    },
    {
      "cell_type": "code",
      "metadata": {
        "colab": {
          "base_uri": "https://localhost:8080/"
        },
        "id": "cFpt_5HwOEWm",
        "outputId": "95299658-394b-4330-bb59-60c1186dc5d9"
      },
      "source": [
        "history = [evaluate(model, valid_dl)]\r\n",
        "history"
      ],
      "execution_count": null,
      "outputs": [
        {
          "output_type": "stream",
          "text": [
            "/usr/local/lib/python3.7/dist-packages/torch/utils/data/dataloader.py:477: UserWarning: This DataLoader will create 3 worker processes in total. Our suggested max number of worker in current system is 2, which is smaller than what this DataLoader is going to create. Please be aware that excessive worker creation might get DataLoader running slow or even freeze, lower the worker number to avoid potential slowness/freeze if necessary.\n",
            "  cpuset_checked))\n"
          ],
          "name": "stderr"
        },
        {
          "output_type": "execute_result",
          "data": {
            "text/plain": [
              "[{'val_acc': 0.010288461111485958, 'val_loss': 4.6053032875061035}]"
            ]
          },
          "metadata": {
            "tags": []
          },
          "execution_count": 36
        }
      ]
    },
    {
      "cell_type": "code",
      "metadata": {
        "id": "9eAHMSDyOHyO"
      },
      "source": [
        "#parameter value assignment\r\n",
        "epochs = 10\r\n",
        "max_lr = 0.01\r\n",
        "grad_clip = 0.1\r\n",
        "weight_decay =1e-4\r\n",
        "opt_func = torch.optim.Adam"
      ],
      "execution_count": null,
      "outputs": []
    },
    {
      "cell_type": "code",
      "metadata": {
        "colab": {
          "base_uri": "https://localhost:8080/"
        },
        "id": "EjFtBk1oOSgZ",
        "outputId": "bc04b49e-9cae-4f3a-cf6e-f7046957f5ea"
      },
      "source": [
        "#hyperparameter tuning\r\n",
        "%%time\r\n",
        "history += fit_one_cycle(epochs, max_lr, model, train_dl, valid_dl, \r\n",
        "                             grad_clip=grad_clip, \r\n",
        "                             weight_decay=weight_decay, \r\n",
        "                             opt_func=opt_func)"
      ],
      "execution_count": null,
      "outputs": [
        {
          "output_type": "stream",
          "text": [
            "/usr/local/lib/python3.7/dist-packages/torch/utils/data/dataloader.py:477: UserWarning: This DataLoader will create 3 worker processes in total. Our suggested max number of worker in current system is 2, which is smaller than what this DataLoader is going to create. Please be aware that excessive worker creation might get DataLoader running slow or even freeze, lower the worker number to avoid potential slowness/freeze if necessary.\n",
            "  cpuset_checked))\n"
          ],
          "name": "stderr"
        },
        {
          "output_type": "stream",
          "text": [
            "Epoch [0], last_lr: 0.00278, train_loss: 3.6969, val_loss: 3.7528, val_acc: 0.1921\n",
            "Epoch [1], last_lr: 0.00759, train_loss: 2.9860, val_loss: 3.5824, val_acc: 0.2231\n",
            "Epoch [2], last_lr: 0.01000, train_loss: 2.3467, val_loss: 4.1010, val_acc: 0.2930\n",
            "Epoch [3], last_lr: 0.00950, train_loss: 1.9323, val_loss: 2.2102, val_acc: 0.4252\n",
            "Epoch [4], last_lr: 0.00812, train_loss: 1.6634, val_loss: 2.4918, val_acc: 0.4396\n",
            "Epoch [5], last_lr: 0.00611, train_loss: 1.4444, val_loss: 1.8435, val_acc: 0.5171\n",
            "Epoch [6], last_lr: 0.00389, train_loss: 1.1989, val_loss: 1.5497, val_acc: 0.5807\n",
            "Epoch [7], last_lr: 0.00188, train_loss: 0.9418, val_loss: 1.1895, val_acc: 0.6648\n",
            "Epoch [8], last_lr: 0.00050, train_loss: 0.6855, val_loss: 1.0288, val_acc: 0.7045\n",
            "Epoch [9], last_lr: 0.00000, train_loss: 0.5148, val_loss: 0.9989, val_acc: 0.7153\n",
            "CPU times: user 3min 40s, sys: 3min 20s, total: 7min 1s\n",
            "Wall time: 1h 17min 12s\n"
          ],
          "name": "stdout"
        }
      ]
    },
    {
      "cell_type": "code",
      "metadata": {
        "colab": {
          "base_uri": "https://localhost:8080/"
        },
        "id": "7Q3kRRKgOUuy",
        "outputId": "fb6b4457-168a-4b5b-afb3-40a06f6f4e59"
      },
      "source": [
        "#hyperparameter tuning\r\n",
        "%%time\r\n",
        "history += fit_one_cycle(epochs, 0.001, model, train_dl, valid_dl, \r\n",
        "                             grad_clip=grad_clip, \r\n",
        "                             weight_decay=weight_decay, \r\n",
        "                             opt_func=opt_func)"
      ],
      "execution_count": null,
      "outputs": [
        {
          "output_type": "stream",
          "text": [
            "/usr/local/lib/python3.7/dist-packages/torch/utils/data/dataloader.py:477: UserWarning: This DataLoader will create 3 worker processes in total. Our suggested max number of worker in current system is 2, which is smaller than what this DataLoader is going to create. Please be aware that excessive worker creation might get DataLoader running slow or even freeze, lower the worker number to avoid potential slowness/freeze if necessary.\n",
            "  cpuset_checked))\n"
          ],
          "name": "stderr"
        },
        {
          "output_type": "stream",
          "text": [
            "Epoch [0], last_lr: 0.00028, train_loss: 0.4895, val_loss: 1.0081, val_acc: 0.7116\n",
            "Epoch [1], last_lr: 0.00076, train_loss: 0.4973, val_loss: 1.1219, val_acc: 0.6865\n",
            "Epoch [2], last_lr: 0.00100, train_loss: 0.5351, val_loss: 1.1989, val_acc: 0.6738\n",
            "Epoch [3], last_lr: 0.00095, train_loss: 0.4961, val_loss: 1.1754, val_acc: 0.6760\n",
            "Epoch [4], last_lr: 0.00081, train_loss: 0.4213, val_loss: 1.1799, val_acc: 0.6850\n",
            "Epoch [5], last_lr: 0.00061, train_loss: 0.3235, val_loss: 1.0988, val_acc: 0.7056\n",
            "Epoch [6], last_lr: 0.00039, train_loss: 0.2324, val_loss: 1.0664, val_acc: 0.7162\n",
            "Epoch [7], last_lr: 0.00019, train_loss: 0.1638, val_loss: 1.0367, val_acc: 0.7289\n",
            "Epoch [8], last_lr: 0.00005, train_loss: 0.1238, val_loss: 1.0322, val_acc: 0.7311\n",
            "Epoch [9], last_lr: 0.00000, train_loss: 0.1073, val_loss: 1.0311, val_acc: 0.7310\n",
            "CPU times: user 3min 54s, sys: 3min 34s, total: 7min 28s\n",
            "Wall time: 13min 42s\n"
          ],
          "name": "stdout"
        }
      ]
    },
    {
      "cell_type": "code",
      "metadata": {
        "colab": {
          "base_uri": "https://localhost:8080/"
        },
        "id": "hLnz41W_Ok7t",
        "outputId": "de829cc0-35d1-410f-b2c5-4575b1fa9bff"
      },
      "source": [
        "#hyperparameter tuning\r\n",
        "%%time\r\n",
        "history += fit_one_cycle(4, 0.00001, model, train_dl, valid_dl, \r\n",
        "                             grad_clip=grad_clip, \r\n",
        "                             weight_decay=weight_decay, \r\n",
        "                             opt_func=opt_func)"
      ],
      "execution_count": null,
      "outputs": [
        {
          "output_type": "stream",
          "text": [
            "/usr/local/lib/python3.7/dist-packages/torch/utils/data/dataloader.py:477: UserWarning: This DataLoader will create 3 worker processes in total. Our suggested max number of worker in current system is 2, which is smaller than what this DataLoader is going to create. Please be aware that excessive worker creation might get DataLoader running slow or even freeze, lower the worker number to avoid potential slowness/freeze if necessary.\n",
            "  cpuset_checked))\n"
          ],
          "name": "stderr"
        },
        {
          "output_type": "stream",
          "text": [
            "Epoch [0], last_lr: 0.00001, train_loss: 0.1076, val_loss: 1.0287, val_acc: 0.7321\n",
            "Epoch [1], last_lr: 0.00001, train_loss: 0.1043, val_loss: 1.0264, val_acc: 0.7328\n",
            "Epoch [2], last_lr: 0.00000, train_loss: 0.1038, val_loss: 1.0281, val_acc: 0.7328\n",
            "Epoch [3], last_lr: 0.00000, train_loss: 0.1028, val_loss: 1.0278, val_acc: 0.7335\n",
            "CPU times: user 1min 29s, sys: 1min 20s, total: 2min 50s\n",
            "Wall time: 5min 30s\n"
          ],
          "name": "stdout"
        }
      ]
    },
    {
      "cell_type": "code",
      "metadata": {
        "colab": {
          "base_uri": "https://localhost:8080/"
        },
        "id": "Bvy5E_mROm7V",
        "outputId": "791d7172-0720-4b63-fffc-3b3bfe1b95cc"
      },
      "source": [
        "#hyperparameter tuning\r\n",
        "%%time\r\n",
        "history += fit_one_cycle(4, 0.0001, model, train_dl, valid_dl, \r\n",
        "                             grad_clip=grad_clip, \r\n",
        "                             weight_decay=weight_decay, \r\n",
        "                             opt_func=opt_func)"
      ],
      "execution_count": null,
      "outputs": [
        {
          "output_type": "stream",
          "text": [
            "/usr/local/lib/python3.7/dist-packages/torch/utils/data/dataloader.py:477: UserWarning: This DataLoader will create 3 worker processes in total. Our suggested max number of worker in current system is 2, which is smaller than what this DataLoader is going to create. Please be aware that excessive worker creation might get DataLoader running slow or even freeze, lower the worker number to avoid potential slowness/freeze if necessary.\n",
            "  cpuset_checked))\n"
          ],
          "name": "stderr"
        },
        {
          "output_type": "stream",
          "text": [
            "Epoch [0], last_lr: 0.00009, train_loss: 0.1031, val_loss: 1.0365, val_acc: 0.7298\n",
            "Epoch [1], last_lr: 0.00008, train_loss: 0.1022, val_loss: 1.0491, val_acc: 0.7288\n",
            "Epoch [2], last_lr: 0.00003, train_loss: 0.0897, val_loss: 1.0521, val_acc: 0.7313\n",
            "Epoch [3], last_lr: 0.00000, train_loss: 0.0825, val_loss: 1.0474, val_acc: 0.7337\n",
            "CPU times: user 1min 30s, sys: 1min 20s, total: 2min 50s\n",
            "Wall time: 5min 30s\n"
          ],
          "name": "stdout"
        }
      ]
    },
    {
      "cell_type": "code",
      "metadata": {
        "id": "asXGGZaBOsdD",
        "colab": {
          "base_uri": "https://localhost:8080/"
        },
        "outputId": "b80a78e4-9320-4026-adb6-1a242a8e9252"
      },
      "source": [
        "#hyperparameter tuning\r\n",
        "%%time\r\n",
        "history += fit_one_cycle(10, 0.0001, model, train_dl, valid_dl, \r\n",
        "                             grad_clip=grad_clip, \r\n",
        "                             weight_decay=weight_decay, \r\n",
        "                             opt_func=opt_func)"
      ],
      "execution_count": null,
      "outputs": [
        {
          "output_type": "stream",
          "text": [
            "/usr/local/lib/python3.7/dist-packages/torch/utils/data/dataloader.py:477: UserWarning: This DataLoader will create 3 worker processes in total. Our suggested max number of worker in current system is 2, which is smaller than what this DataLoader is going to create. Please be aware that excessive worker creation might get DataLoader running slow or even freeze, lower the worker number to avoid potential slowness/freeze if necessary.\n",
            "  cpuset_checked))\n"
          ],
          "name": "stderr"
        },
        {
          "output_type": "stream",
          "text": [
            "Epoch [0], last_lr: 0.00003, train_loss: 0.0819, val_loss: 1.0490, val_acc: 0.7319\n",
            "Epoch [1], last_lr: 0.00008, train_loss: 0.0815, val_loss: 1.0588, val_acc: 0.7293\n",
            "Epoch [2], last_lr: 0.00010, train_loss: 0.0796, val_loss: 1.0631, val_acc: 0.7325\n",
            "Epoch [3], last_lr: 0.00010, train_loss: 0.0742, val_loss: 1.0752, val_acc: 0.7294\n",
            "Epoch [4], last_lr: 0.00008, train_loss: 0.0671, val_loss: 1.0801, val_acc: 0.7311\n",
            "Epoch [5], last_lr: 0.00006, train_loss: 0.0601, val_loss: 1.0802, val_acc: 0.7319\n",
            "Epoch [6], last_lr: 0.00004, train_loss: 0.0543, val_loss: 1.0824, val_acc: 0.7340\n",
            "Epoch [7], last_lr: 0.00002, train_loss: 0.0512, val_loss: 1.0790, val_acc: 0.7353\n",
            "Epoch [8], last_lr: 0.00000, train_loss: 0.0477, val_loss: 1.0804, val_acc: 0.7350\n",
            "Epoch [9], last_lr: 0.00000, train_loss: 0.0465, val_loss: 1.0816, val_acc: 0.7355\n",
            "CPU times: user 3min 43s, sys: 3min 23s, total: 7min 7s\n",
            "Wall time: 13min 45s\n"
          ],
          "name": "stdout"
        }
      ]
    },
    {
      "cell_type": "code",
      "metadata": {
        "id": "TD2_yQWBOvUr"
      },
      "source": [
        "train_time='30:00'"
      ],
      "execution_count": null,
      "outputs": []
    },
    {
      "cell_type": "code",
      "metadata": {
        "id": "8FLprJHcOxzl"
      },
      "source": [
        "# Accuracy Graph\r\n",
        "def plot_accuracies(history):\r\n",
        "    accuracies = [x['val_acc'] for x in history]\r\n",
        "    plt.plot(accuracies, '-x', color=\"green\")\r\n",
        "    plt.xlabel('Number of Epochs')\r\n",
        "    plt.ylabel('Accuracy')\r\n",
        "    plt.title('Graph of Accuracy compared to Epochs');"
      ],
      "execution_count": null,
      "outputs": []
    },
    {
      "cell_type": "code",
      "metadata": {
        "id": "DNt-BravO1Tq",
        "colab": {
          "base_uri": "https://localhost:8080/",
          "height": 295
        },
        "outputId": "11a1b25a-5812-47d7-81db-4dc09cc9e312"
      },
      "source": [
        "plot_accuracies(history)"
      ],
      "execution_count": null,
      "outputs": [
        {
          "output_type": "display_data",
          "data": {
            "image/png": "[encoded data removed]",
            "text/plain": [
              "<Figure size 432x288 with 1 Axes>"
            ]
          },
          "metadata": {
            "tags": [],
            "needs_background": "light"
          }
        }
      ]
    },
    {
      "cell_type": "code",
      "metadata": {
        "id": "ZA8_rABbO_1M"
      },
      "source": [
        "# Training and Validation loss graph\r\n",
        "def plot_losses(history):\r\n",
        "    train_losses = [x.get('train_loss') for x in history]\r\n",
        "    val_losses = [x['val_loss'] for x in history]\r\n",
        "    plt.plot(train_losses, '-bx', color=\"yellow\")\r\n",
        "    plt.plot(val_losses, '-rx', color=\"orange\")\r\n",
        "    plt.xlabel('no of epoch')\r\n",
        "    plt.ylabel('loss')\r\n",
        "    plt.legend(['Training', 'Validation'])\r\n",
        "    plt.title('Loss compared to Epochs');"
      ],
      "execution_count": null,
      "outputs": []
    },
    {
      "cell_type": "code",
      "metadata": {
        "id": "57Z8H0IPPBla",
        "colab": {
          "base_uri": "https://localhost:8080/",
          "height": 295
        },
        "outputId": "f2dc843c-eb40-4520-b97b-4cb2aff3ded5"
      },
      "source": [
        "plot_losses(history)"
      ],
      "execution_count": null,
      "outputs": [
        {
          "output_type": "display_data",
          "data": {
            "image/png": "[encoded data removed]",
            "text/plain": [
              "<Figure size 432x288 with 1 Axes>"
            ]
          },
          "metadata": {
            "tags": [],
            "needs_background": "light"
          }
        }
      ]
    },
    {
      "cell_type": "code",
      "metadata": {
        "id": "Od_p4ZIqPDi1"
      },
      "source": [
        "# Learning Rate Graph\r\n",
        "def plot_lrs(history):\r\n",
        "    lrs = np.concatenate([x.get('lrs', []) for x in history])\r\n",
        "    plt.plot(lrs, color=\"pink\")\r\n",
        "    plt.xlabel('Batch no.')\r\n",
        "    plt.ylabel('Learning rate')\r\n",
        "    plt.title('Learning Rate vs. Batch no.');"
      ],
      "execution_count": null,
      "outputs": []
    },
    {
      "cell_type": "code",
      "metadata": {
        "id": "6FghEiuFPFcD",
        "colab": {
          "base_uri": "https://localhost:8080/",
          "height": 295
        },
        "outputId": "9a5527b1-a5bc-4389-d076-8d3f05e83a6e"
      },
      "source": [
        "plot_lrs(history)"
      ],
      "execution_count": null,
      "outputs": [
        {
          "output_type": "display_data",
          "data": {
            "image/png": "[encoded data removed]",
            "text/plain": [
              "<Figure size 432x288 with 1 Axes>"
            ]
          },
          "metadata": {
            "tags": [],
            "needs_background": "light"
          }
        }
      ]
    },
    {
      "cell_type": "code",
      "metadata": {
        "id": "kFz4RaUNPJNH"
      },
      "source": [
        "from torchvision.transforms import ToTensor\r\n",
        "test_transformed = tt.Compose([tt.ToTensor(), tt.Normalize(*stats)\r\n",
        "                        ])\r\n",
        "test_dataset = ImageFolder(data_dir+'/TEST', test_transformed)"
      ],
      "execution_count": null,
      "outputs": []
    },
    {
      "cell_type": "code",
      "metadata": {
        "id": "h6yrn32SPLDT"
      },
      "source": [
        "dataset = ImageFolder(data_dir+'/TRAIN', transform=ToTensor())"
      ],
      "execution_count": null,
      "outputs": []
    },
    {
      "cell_type": "code",
      "metadata": {
        "id": "rI5AYD6SPMm2"
      },
      "source": [
        "def predict_image(img, model):\r\n",
        "    # Convert to a batch of 1\r\n",
        "    xb = to_device(img.unsqueeze(0), device)\r\n",
        "    # Get predictions from model\r\n",
        "    yb = model(xb)\r\n",
        "    # Pick index with highest probability\r\n",
        "    _, preds  = torch.max(yb, dim=1)\r\n",
        "    # Retrieve the class label\r\n",
        "    return dataset.classes[preds[0].item()]"
      ],
      "execution_count": null,
      "outputs": []
    },
    {
      "cell_type": "code",
      "metadata": {
        "id": "k0T41piFPOSx",
        "colab": {
          "base_uri": "https://localhost:8080/",
          "height": 300
        },
        "outputId": "d5130c71-0125-4576-ab69-4281d61a0ce1"
      },
      "source": [
        "#testcase\r\n",
        "img, label = test_dataset[5]\r\n",
        "plt.imshow(img.permute(1, 2, 0))\r\n",
        "print('Label:', dataset.classes[label], ', Predicted:', predict_image(img, model))"
      ],
      "execution_count": null,
      "outputs": [
        {
          "output_type": "stream",
          "text": [
            "Clipping input data to the valid range for imshow with RGB data ([0..1] for floats or [0..255] for integers).\n"
          ],
          "name": "stderr"
        },
        {
          "output_type": "stream",
          "text": [
            "Label: apple , Predicted: pear\n"
          ],
          "name": "stdout"
        },
        {
          "output_type": "display_data",
          "data": {
            "image/png": "[encoded data removed]",
            "text/plain": [
              "<Figure size 432x288 with 1 Axes>"
            ]
          },
          "metadata": {
            "tags": [],
            "needs_background": "light"
          }
        }
      ]
    },
    {
      "cell_type": "code",
      "metadata": {
        "id": "gtFamPkvPQG9",
        "colab": {
          "base_uri": "https://localhost:8080/",
          "height": 300
        },
        "outputId": "f906f8ca-d5ba-491e-8ffb-4a3e3a09e9a7"
      },
      "source": [
        "#testcase\r\n",
        "img, label = test_dataset[111]\r\n",
        "plt.imshow(img.permute(1, 2, 0))\r\n",
        "print('Label:', dataset.classes[label], ', Predicted:', predict_image(img, model))"
      ],
      "execution_count": null,
      "outputs": [
        {
          "output_type": "stream",
          "text": [
            "Clipping input data to the valid range for imshow with RGB data ([0..1] for floats or [0..255] for integers).\n"
          ],
          "name": "stderr"
        },
        {
          "output_type": "stream",
          "text": [
            "Label: aquarium_fish , Predicted: aquarium_fish\n"
          ],
          "name": "stdout"
        },
        {
          "output_type": "display_data",
          "data": {
            "image/png": "[encoded data removed]",
            "text/plain": [
              "<Figure size 432x288 with 1 Axes>"
            ]
          },
          "metadata": {
            "tags": [],
            "needs_background": "light"
          }
        }
      ]
    },
    {
      "cell_type": "code",
      "metadata": {
        "id": "mJLe_h-bPR3g",
        "colab": {
          "base_uri": "https://localhost:8080/"
        },
        "outputId": "866ac74d-56d4-4c2c-b604-d23dd847f59f"
      },
      "source": [
        "#testcase\r\n",
        "img, label = test_dataset[232]\r\n",
        "plt.imshow(img.permute(1, 2, 0))\r\n",
        "print('Label:', dataset.classes[label], ', Predicted:', predict_image(img, model))"
      ],
      "execution_count": null,
      "outputs": [
        {
          "output_type": "stream",
          "text": [
            "Clipping input data to the valid range for imshow with RGB data ([0..1] for floats or [0..255] for integers).\n"
          ],
          "name": "stderr"
        },
        {
          "output_type": "stream",
          "text": [
            "Label: baby , Predicted: bed\n"
          ],
          "name": "stdout"
        },
        {
          "output_type": "display_data",
          "data": {
            "image/png": "[encoded data removed]",
            "text/plain": [
              "<Figure size 432x288 with 1 Axes>"
            ]
          },
          "metadata": {
            "tags": [],
            "needs_background": "light"
          }
        }
      ]
    },
    {
      "cell_type": "code",
      "metadata": {
        "id": "Ytvwg9J_PWpi",
        "colab": {
          "base_uri": "https://localhost:8080/"
        },
        "outputId": "31654344-549a-4edc-c620-84def0052223"
      },
      "source": [
        "#testcase\r\n",
        "test_loader = DeviceDataLoader(DataLoader(test_dataset, batch_size*2), device)\r\n",
        "result = evaluate(model, test_loader)\r\n",
        "result"
      ],
      "execution_count": null,
      "outputs": [
        {
          "output_type": "execute_result",
          "data": {
            "text/plain": [
              "{'val_acc': 0.7354808449745178, 'val_loss': 1.081560730934143}"
            ]
          },
          "metadata": {
            "tags": []
          },
          "execution_count": 56
        }
      ]
    }
  ]
}