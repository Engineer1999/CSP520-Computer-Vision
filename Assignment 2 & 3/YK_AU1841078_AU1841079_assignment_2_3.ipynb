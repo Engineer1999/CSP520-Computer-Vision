{
  "nbformat": 4,
  "nbformat_minor": 0,
  "metadata": {
    "colab": {
      "name": "Assignment2.ipynb",
      "provenance": [],
      "collapsed_sections": []
    },
    "kernelspec": {
      "display_name": "Python 3",
      "name": "python3"
    }
  },
  "cells": [
    {
      "cell_type": "code",
      "metadata": {
        "colab": {
          "base_uri": "https://localhost:8080/"
        },
        "id": "bYyHZ0Dw0qzI",
        "outputId": "6bb50fd6-6197-4dc5-e06d-5e8d77cc5bd7"
      },
      "source": [
        "# since sift function is not supported in the latest version, we need to install the older version of opencv\r\n",
        "!pip install opencv-python==3.4.2.17\r\n",
        "!pip install opencv-contrib-python==3.4.2.17"
      ],
      "execution_count": null,
      "outputs": [
        {
          "output_type": "stream",
          "text": [
            "Requirement already satisfied: opencv-python==3.4.2.17 in /usr/local/lib/python3.6/dist-packages (3.4.2.17)\n",
            "Requirement already satisfied: numpy>=1.11.3 in /usr/local/lib/python3.6/dist-packages (from opencv-python==3.4.2.17) (1.19.5)\n",
            "Requirement already satisfied: opencv-contrib-python==3.4.2.17 in /usr/local/lib/python3.6/dist-packages (3.4.2.17)\n",
            "Requirement already satisfied: numpy>=1.11.3 in /usr/local/lib/python3.6/dist-packages (from opencv-contrib-python==3.4.2.17) (1.19.5)\n"
          ],
          "name": "stdout"
        }
      ]
    },
    {
      "cell_type": "code",
      "metadata": {
        "colab": {
          "base_uri": "https://localhost:8080/"
        },
        "id": "1KJOkXJcL9iY",
        "outputId": "69b3c2b5-00d9-48cf-9181-688b7bf1671d"
      },
      "source": [
        "from google.colab import drive\r\n",
        "drive.mount('/content/drive')"
      ],
      "execution_count": null,
      "outputs": [
        {
          "output_type": "stream",
          "text": [
            "Drive already mounted at /content/drive; to attempt to forcibly remount, call drive.mount(\"/content/drive\", force_remount=True).\n"
          ],
          "name": "stdout"
        }
      ]
    },
    {
      "cell_type": "code",
      "metadata": {
        "id": "zI9S3Rl5PYf7"
      },
      "source": [
        "import cv2\r\n",
        "import numpy as np\r\n",
        "import matplotlib.pyplot as plt"
      ],
      "execution_count": null,
      "outputs": []
    },
    {
      "cell_type": "code",
      "metadata": {
        "id": "7Qn5NVRK1OEj"
      },
      "source": [
        "from sklearn import svm\r\n",
        "imageId = {}\r\n",
        "from pathlib import Path\r\n",
        "import sklearn.metrics as metrics"
      ],
      "execution_count": null,
      "outputs": []
    },
    {
      "cell_type": "code",
      "metadata": {
        "id": "vxJbdkBi4L4R"
      },
      "source": [
        "# Function definition for feature extraction\r\n",
        "def feature_extract(file_path):   \r\n",
        "    \"\"\"\r\n",
        "    This function takes in list of file paths and returns the training data and labels, by computing SIFT features.\r\n",
        "    \"\"\"\r\n",
        "    path = '/content/drive/MyDrive/CVAss22/Train'   #path to training dataset\r\n",
        "    c = 0   #initialize a count variable \r\n",
        "    X_train=[]    #initialize a list for training input\r\n",
        "    y_train=[]    #initialize a list for training output/labels       \r\n",
        "\r\n",
        "    for f in file_path:        \r\n",
        "        fileStr = str(f)    #convert object to string\r\n",
        "        Image = cv2.imread(fileStr)   #read the image    \r\n",
        "\r\n",
        "        sift = cv2.xfeatures2d.SIFT_create()    #create SIFT object     \r\n",
        "        keypoints, descriptors = sift.detectAndCompute(Image, None)    #compute the keypoints & descriptors for image\r\n",
        "\r\n",
        "        fname = fileStr.replace(path, '')   #extract only the name of the file, i.e. remove the whole path till parent directory\r\n",
        "        idx = fname.index('_')    #extract the index position of '_'\r\n",
        "        subId = fname[:idx]   #get the subject id\r\n",
        "\r\n",
        "        #create a dictionary for mapping image ids\r\n",
        "        if subId not in imageId.keys():\r\n",
        "            imageId[subId] = c\r\n",
        "            c += 1\r\n",
        "\r\n",
        "        num_des = 0   #number of descriptors varaible initialization\r\n",
        "\r\n",
        "        for d in descriptors:\r\n",
        "            if num_des <= 50:   #comparing the number of descriptors with a threshold\r\n",
        "                X_train.append(d.astype(float))   #append the descriptor to the return data \r\n",
        "                y_train.append(imageId[subId])    #append image id of the subject to the labels to be returned\r\n",
        "                num_des += 1    #increment the number of descriptors variable\r\n",
        "            else:\r\n",
        "                break\r\n",
        "\r\n",
        "    return X_train, y_train   #return the data and label"
      ],
      "execution_count": null,
      "outputs": []
    },
    {
      "cell_type": "code",
      "metadata": {
        "id": "Y7OlM6u66h8F"
      },
      "source": [
        "# Function definition for training the model, testing and displaying the results \r\n",
        "def model():\r\n",
        "    \"\"\"\r\n",
        "    This function trains the model, \r\n",
        "    \"\"\"\r\n",
        "    train_dir='/content/drive/MyDrive/CVAss22/Train'   #path to the main train directory\r\n",
        "    train_files = Path(str(train_dir)).rglob('*.pgm')    #object created to path of training files\r\n",
        "\r\n",
        "    #for testing and computing accuracy\r\n",
        "    test_dir='/content/drive/MyDrive/CVAss22/Test'   #path to the main test directory\r\n",
        "    test_files = Path(str(test_dir)).rglob('*.pgm')    #object created to path of test files\r\n",
        "\r\n",
        "    #same as above (for plotting roc)\r\n",
        "    test_dir1='/content/drive/MyDrive/CVAss22/Test'   #path to the main test directory\r\n",
        "    test_files1 = Path(str(test_dir1)).rglob('*.pgm')    #object created to path of test files\r\n",
        "\r\n",
        "    X_train, y_train = feature_extract(train_files)   #function call to 'feature_extract' to get training data and labels\r\n",
        "\r\n",
        "    #convert the matrices to numpy array\r\n",
        "    X_train = np.array(X_train)\r\n",
        "    y_train = np.array(y_train)\r\n",
        "\r\n",
        "    classifier = svm.SVC(kernel = 'rbf', C = 10, gamma = 0.00001, probability=True)    #support vector classification with rbf (radial basis function) kernel, regularization parameter as 10, and kernel coefficient as 0.00001 \r\n",
        "    classifier.fit(X_train, y_train)    #train the classifier, to fit the model to the training data\r\n",
        "\r\n",
        "    sift = cv2.xfeatures2d.SIFT_create()    #create SIFT object  \r\n",
        "\r\n",
        "    count = 0   #initializing a counter to count the number of test files\r\n",
        "    path = '/content/drive/MyDrive/CVAss22/Test'    #path to the test dataset\r\n",
        "    accuracy = 0    #initialize accuracy    \r\n",
        "\r\n",
        "    for f in test_files:\r\n",
        "        fileStr = str(f)     #convert object to string\r\n",
        "        Image = cv2.imread(fileStr)   #read the image  \r\n",
        "        count += 1    #increment the counter\r\n",
        "\r\n",
        "        keypoints, descriptors = sift.detectAndCompute(Image, None)    #compute the keypoints & descriptors for image\r\n",
        "\r\n",
        "        temp = classifier.predict(descriptors)   #predict labels for keypoints of test image\r\n",
        "        predicted = temp.astype(np.int64)    #convert the predicted value to int64 datatype\r\n",
        "\r\n",
        "        counts = np.bincount(predicted)      #count the occurence of each predicted value (labels assigned to keypoints)\r\n",
        "        predicted_subId = np.argmax(counts)   #choose the subject id assigned to maximum of the keypoints\r\n",
        "\r\n",
        "        fname = fileStr.replace(path, '')   #extract only the name of the file, i.e. remove the whole path till parent directory\r\n",
        "        idx = fname.index('_')    #extract the index position of '_'\r\n",
        "        subId = fname[:idx]   #get the subject id\r\n",
        "        \r\n",
        "        actual_subId = imageId[subId]     #assign the integer associated with the subject to actual subject id\r\n",
        "\r\n",
        "        if actual_subId == predicted_subId:   #check if the actual subject id (ground truth) is equal to the predicted subject id\r\n",
        "            accuracy += 1     #if yes, increment the accuracy\r\n",
        "        \r\n",
        "        print(fname + \" - Actual subject id: \" + str(actual_subId) + \" - predicted subject id: \" + str(predicted_subId))\r\n",
        "\r\n",
        "    accuracy = (accuracy / count) * 100     #compute the accuracy\r\n",
        "    print(\"\\nAccuracy: %.2f\" % accuracy + \"%\")\r\n",
        "\r\n",
        "    \"\"\"------------------------------------ROC curve-------------------------------------\"\"\"\r\n",
        "    X_test1, y_test1 = feature_extract(test_files1)   #function call to 'feature_extract' to get test data and labels\r\n",
        "\r\n",
        "    #convert the matrices to numpy array\r\n",
        "    X_test1 = np.array(X_test1)   \r\n",
        "    y_test1 = np.array(y_test1)\r\n",
        "\r\n",
        "    #calculate the false positive rate (fpr) and true positive rate (tpr) for the threshold\r\n",
        "    preds = classifier.predict_proba(X_test1)[:,1]    #predict the probabilities\r\n",
        "    fpr, tpr, threshold = metrics.roc_curve(y_test1, preds, pos_label=1)    #receiver operating characteristics (roc) curve for the model, returns fpr, tpr and threshold\r\n",
        "    roc_auc = metrics.auc(fpr, tpr)   #compute arear under the curve (auc), based on fpr and tpr \r\n",
        "\r\n",
        "    #plot the roc curve\r\n",
        "    plt.subplots(1, figsize=(10,10))\r\n",
        "    plt.title('Receiver Operating Characteristic')\r\n",
        "    plt.plot(fpr, tpr)\r\n",
        "    plt.plot([0, 1], ls=\"--\")\r\n",
        "    plt.plot([0, 0], [1, 0] , c=\".7\"), plt.plot([1, 1] , c=\".7\")\r\n",
        "    plt.ylabel('True Positive Rate')\r\n",
        "    plt.xlabel('False Positive Rate')\r\n",
        "    plt.show()\r\n",
        "    \"\"\"The code to plot the ROC curve is referred from:\r\n",
        "    https://stackoverflow.com/questions/25009284/how-to-plot-roc-curve-in-python\"\"\"\r\n",
        "    \"\"\"----------------------------------------------------------------------------------\"\"\""
      ],
      "execution_count": null,
      "outputs": []
    },
    {
      "cell_type": "code",
      "metadata": {
        "colab": {
          "base_uri": "https://localhost:8080/",
          "height": 1000
        },
        "id": "ZPimNOz8BrUE",
        "outputId": "ae9cdd02-0a4e-409e-b675-345cf742b82a"
      },
      "source": [
        "model()"
      ],
      "execution_count": null,
      "outputs": [
        {
          "output_type": "stream",
          "text": [
            "/1001_s19.pgm - Actual subject id: 0 - predicted subject id: 0\n",
            "/1001_s110.pgm - Actual subject id: 0 - predicted subject id: 0\n",
            "/10010_s1010.pgm - Actual subject id: 1 - predicted subject id: 1\n",
            "/10011_s1110.pgm - Actual subject id: 2 - predicted subject id: 2\n",
            "/10010_s109.pgm - Actual subject id: 1 - predicted subject id: 1\n",
            "/10012_s1210.pgm - Actual subject id: 3 - predicted subject id: 3\n",
            "/10014_s141.pgm - Actual subject id: 5 - predicted subject id: 5\n",
            "/10013_s131.pgm - Actual subject id: 4 - predicted subject id: 4\n",
            "/10015_s152.pgm - Actual subject id: 6 - predicted subject id: 6\n",
            "/10016_s168.pgm - Actual subject id: 7 - predicted subject id: 7\n",
            "/10017_s176.pgm - Actual subject id: 8 - predicted subject id: 8\n",
            "/10019_s193.pgm - Actual subject id: 10 - predicted subject id: 10\n",
            "/10018_s1810.pgm - Actual subject id: 9 - predicted subject id: 9\n",
            "/1002_s210.pgm - Actual subject id: 12 - predicted subject id: 12\n",
            "/1002_s29.pgm - Actual subject id: 12 - predicted subject id: 12\n",
            "/10020_s2010.pgm - Actual subject id: 11 - predicted subject id: 11\n",
            "/10021_s2110.pgm - Actual subject id: 13 - predicted subject id: 13\n",
            "/10022_s228.pgm - Actual subject id: 14 - predicted subject id: 14\n",
            "/10021_s219.pgm - Actual subject id: 13 - predicted subject id: 13\n",
            "/10021_s218.pgm - Actual subject id: 13 - predicted subject id: 13\n",
            "/10022_s2210.pgm - Actual subject id: 14 - predicted subject id: 14\n",
            "/10022_s229.pgm - Actual subject id: 14 - predicted subject id: 14\n",
            "/10024_s243.pgm - Actual subject id: 16 - predicted subject id: 16\n",
            "/10023_s236.pgm - Actual subject id: 15 - predicted subject id: 15\n",
            "/10024_s242.pgm - Actual subject id: 16 - predicted subject id: 16\n",
            "/10023_s238.pgm - Actual subject id: 15 - predicted subject id: 15\n",
            "/10023_s237.pgm - Actual subject id: 15 - predicted subject id: 15\n",
            "/10024_s241.pgm - Actual subject id: 16 - predicted subject id: 16\n",
            "/10025_s251.pgm - Actual subject id: 17 - predicted subject id: 17\n",
            "/10025_s252.pgm - Actual subject id: 17 - predicted subject id: 17\n",
            "/10025_s253.pgm - Actual subject id: 17 - predicted subject id: 17\n",
            "/10026_s266.pgm - Actual subject id: 18 - predicted subject id: 18\n",
            "/10027_s276.pgm - Actual subject id: 19 - predicted subject id: 19\n",
            "/10026_s265.pgm - Actual subject id: 18 - predicted subject id: 18\n",
            "/10026_s267.pgm - Actual subject id: 18 - predicted subject id: 6\n",
            "/10028_s283.pgm - Actual subject id: 20 - predicted subject id: 20\n",
            "/10027_s277.pgm - Actual subject id: 19 - predicted subject id: 19\n",
            "/10028_s285.pgm - Actual subject id: 20 - predicted subject id: 20\n",
            "/10027_s278.pgm - Actual subject id: 19 - predicted subject id: 19\n",
            "/10029_s2910.pgm - Actual subject id: 21 - predicted subject id: 21\n",
            "/10028_s284.pgm - Actual subject id: 20 - predicted subject id: 20\n",
            "/10029_s298.pgm - Actual subject id: 21 - predicted subject id: 21\n",
            "/10029_s299.pgm - Actual subject id: 21 - predicted subject id: 21\n",
            "/1003_s310.pgm - Actual subject id: 22 - predicted subject id: 22\n",
            "/10030_s3010.pgm - Actual subject id: 23 - predicted subject id: 23\n",
            "/10030_s309.pgm - Actual subject id: 23 - predicted subject id: 23\n",
            "/10030_s308.pgm - Actual subject id: 23 - predicted subject id: 23\n",
            "/10031_s3110.pgm - Actual subject id: 24 - predicted subject id: 24\n",
            "/1003_s39.pgm - Actual subject id: 22 - predicted subject id: 22\n",
            "/10032_s323.pgm - Actual subject id: 25 - predicted subject id: 25\n",
            "/10032_s324.pgm - Actual subject id: 25 - predicted subject id: 25\n",
            "/10031_s319.pgm - Actual subject id: 24 - predicted subject id: 24\n",
            "/10033_s336.pgm - Actual subject id: 26 - predicted subject id: 26\n",
            "/10034_s346.pgm - Actual subject id: 27 - predicted subject id: 27\n",
            "/10033_s337.pgm - Actual subject id: 26 - predicted subject id: 26\n",
            "/10034_s345.pgm - Actual subject id: 27 - predicted subject id: 27\n",
            "/10036_s361.pgm - Actual subject id: 29 - predicted subject id: 29\n",
            "/10035_s3510.pgm - Actual subject id: 28 - predicted subject id: 28\n",
            "/10036_s362.pgm - Actual subject id: 29 - predicted subject id: 29\n",
            "/10035_s359.pgm - Actual subject id: 28 - predicted subject id: 28\n",
            "/10037_s3710.pgm - Actual subject id: 30 - predicted subject id: 30\n",
            "/10037_s379.pgm - Actual subject id: 30 - predicted subject id: 30\n",
            "/10038_s386.pgm - Actual subject id: 31 - predicted subject id: 31\n",
            "/10039_s392.pgm - Actual subject id: 32 - predicted subject id: 32\n",
            "/10038_s384.pgm - Actual subject id: 31 - predicted subject id: 31\n",
            "/10039_s391.pgm - Actual subject id: 32 - predicted subject id: 32\n",
            "/1004_s49.pgm - Actual subject id: 33 - predicted subject id: 33\n",
            "/1004_s410.pgm - Actual subject id: 33 - predicted subject id: 33\n",
            "/10040_s406.pgm - Actual subject id: 34 - predicted subject id: 34\n",
            "/1005_s51.pgm - Actual subject id: 35 - predicted subject id: 35\n",
            "/10040_s407.pgm - Actual subject id: 34 - predicted subject id: 34\n",
            "/1005_s52.pgm - Actual subject id: 35 - predicted subject id: 35\n",
            "/1006_s610.pgm - Actual subject id: 36 - predicted subject id: 36\n",
            "/1008_s810.pgm - Actual subject id: 38 - predicted subject id: 38\n",
            "/1007_s710.pgm - Actual subject id: 37 - predicted subject id: 37\n",
            "/1007_s79.pgm - Actual subject id: 37 - predicted subject id: 37\n",
            "/1006_s69.pgm - Actual subject id: 36 - predicted subject id: 36\n",
            "/1009_s910.pgm - Actual subject id: 39 - predicted subject id: 39\n",
            "/1008_s89.pgm - Actual subject id: 38 - predicted subject id: 38\n",
            "/1009_s99.pgm - Actual subject id: 39 - predicted subject id: 39\n",
            "\n",
            "Accuracy: 98.75%\n"
          ],
          "name": "stdout"
        },
        {
          "output_type": "display_data",
          "data": {
            "image/png": "[encoded data removed]",
            "text/plain": [
              "<Figure size 720x720 with 1 Axes>"
            ]
          },
          "metadata": {
            "tags": [],
            "needs_background": "light"
          }
        }
      ]
    }
  ]
}